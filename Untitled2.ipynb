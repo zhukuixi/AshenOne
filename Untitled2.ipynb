{
 "cells": [
  {
   "cell_type": "code",
   "execution_count": 52,
   "metadata": {},
   "outputs": [
    {
     "name": "stdout",
     "output_type": "stream",
     "text": [
      "0    1\n",
      "1    2\n",
      "2    3\n",
      "3    4\n",
      "4    5\n",
      "5    9\n",
      "6    2\n",
      "7    3\n",
      "Name: temperature, dtype: int8\n",
      "[dtype('int8'), 136]\n"
     ]
    }
   ],
   "source": [
    "import pandas as pd\n",
    "tmp = pd.Series([1,2,3,4,5,9,2,'3'],name=\"temperature\")\n",
    "tmp.nbytes\n",
    "tmp = tmp.astype('int8')\n",
    "print(tmp)\n",
    "print([tmp.dtype,tmp.memory_usage(deep=True)])"
   ]
  },
  {
   "cell_type": "code",
   "execution_count": 31,
   "metadata": {},
   "outputs": [
    {
     "name": "stdout",
     "output_type": "stream",
     "text": [
      "0    m\n",
      "1    l\n",
      "2    s\n",
      "dtype: category\n",
      "Categories (3, object): ['s' < 'm' < 'l']\n"
     ]
    }
   ],
   "source": [
    "size = pd.Series(['m','l','s'],dtype='category')\n",
    "\n",
    "size.cat.reorder_categories(['s','m','l'],ordered=True,inplace=True)\n",
    "size.str."
   ]
  }
 ],
 "metadata": {
  "kernelspec": {
   "display_name": "Python 3",
   "language": "python",
   "name": "python3"
  },
  "language_info": {
   "codemirror_mode": {
    "name": "ipython",
    "version": 3
   },
   "file_extension": ".py",
   "mimetype": "text/x-python",
   "name": "python",
   "nbconvert_exporter": "python",
   "pygments_lexer": "ipython3",
   "version": "3.7.3"
  }
 },
 "nbformat": 4,
 "nbformat_minor": 4
}
