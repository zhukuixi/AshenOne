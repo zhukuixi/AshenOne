{
  "nbformat": 4,
  "nbformat_minor": 0,
  "metadata": {
    "colab": {
      "provenance": [],
      "collapsed_sections": [],
      "authorship_tag": "ABX9TyP8akLX4nYRSdR1G4qcoHcZ",
      "include_colab_link": true
    },
    "kernelspec": {
      "name": "python3",
      "display_name": "Python 3"
    },
    "language_info": {
      "name": "python"
    }
  },
  "cells": [
    {
      "cell_type": "markdown",
      "metadata": {
        "id": "view-in-github",
        "colab_type": "text"
      },
      "source": [
        "<a href=\"https://colab.research.google.com/github/zhukuixi/AshenOne/blob/master/Dijkstra.ipynb\" target=\"_parent\"><img src=\"https://colab.research.google.com/assets/colab-badge.svg\" alt=\"Open In Colab\"/></a>"
      ]
    },
    {
      "cell_type": "code",
      "source": [
        "# Kuixi Zhu\n",
        "# 9/17/2022\n",
        "# Reference: https://yxudong.github.io/Dijkstra-%E6%9C%80%E7%9F%AD%E8%B7%AF%E5%BE%84%E7%AE%97%E6%B3%95-Python-%E5%AE%9E%E7%8E%B0/\n",
        "\n",
        "class Dijkstra:\n",
        "  def __init__(self,G):\n",
        "    self.graph = G\n",
        "    self.nodeCount = len(G)\n",
        "    self.dist = {(ind_startNode,ind_endNode):distance  for ind_startNode,distanceRow in enumerate(self.graph) for ind_endNode,distance in enumerate(distanceRow)  }\n",
        "      \n",
        "  def shortestPath(self,initPointIndex):\n",
        "    visited = [0]*self.nodeCount\n",
        "    visited[initPointIndex] = 1\n",
        "    lastNode = initPointIndex\n",
        "    distanceFromInitPoint = {key[1]:value for key, value in self.dist.items() if key[0] == initPointIndex}\n",
        "    edgeRecord = {initPointIndex:-1}\n",
        "    # nodeCount - 1 iteration\n",
        "    for i in range(self.nodeCount-1):\n",
        "      \n",
        "      # looking for the unvisited node cloested to the lastNode\n",
        "      currentLongestDistance = float('inf')\n",
        "      candidateLastNode = None\n",
        "      for j in range(self.nodeCount):        \n",
        "        if visited[j] == 0 and self.dist[(lastNode,j)] < currentLongestDistance:\n",
        "          currentLongestDistance = self.dist[(lastNode,j)]\n",
        "          candidateLastNode = j\n",
        "      # update the distance matrix\n",
        "      ## update from visiting node   \n",
        "      distanceFromInitPoint[candidateLastNode] = currentLongestDistance + distanceFromInitPoint[lastNode]\n",
        "      ## update from the child node of visiting node\n",
        "      for k in range(self.nodeCount):\n",
        "        newDistance = self.dist[(candidateLastNode,k)] + distanceFromInitPoint[candidateLastNode]\n",
        "        if newDistance < distanceFromInitPoint[k]:\n",
        "          distanceFromInitPoint[k] = newDistance\n",
        "      # record the edge from the visiting node and mark it as visited\n",
        "      edgeRecord[candidateLastNode] = lastNode\n",
        "      visited[candidateLastNode] = 1\n",
        "      lastNode = candidateLastNode\n",
        "      \n",
        "    return distanceFromInitPoint,edgeRecord\n",
        "        \n",
        "\n",
        "\n",
        "\n",
        "\n"
      ],
      "metadata": {
        "id": "2ZUls-ok_21Z"
      },
      "execution_count": 32,
      "outputs": []
    },
    {
      "cell_type": "markdown",
      "source": [
        "![image.png](data:image/png;base64,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)"
      ],
      "metadata": {
        "id": "eu4mf-0oHjN-"
      }
    },
    {
      "cell_type": "code",
      "execution_count": 33,
      "metadata": {
        "colab": {
          "base_uri": "https://localhost:8080/"
        },
        "id": "8FF8WD3w_xvb",
        "outputId": "fabee606-50e0-4ec0-c843-06a1e491cedb"
      },
      "outputs": [
        {
          "output_type": "stream",
          "name": "stdout",
          "text": [
            "dis:  {0: 0, 1: 1, 2: 8, 3: 4, 4: 13, 5: 17}\n",
            "parents:  {0: -1, 1: 0, 3: 1, 2: 3, 4: 2, 5: 4}\n"
          ]
        }
      ],
      "source": [
        "\n",
        "if __name__ == '__main__':\n",
        "    inf = float('inf')\n",
        "    G = [[0, 1, 12, inf, inf, inf],\n",
        "         [inf, 0, 9, 3, inf, inf],\n",
        "         [inf, inf, 0, inf, 5, inf],\n",
        "         [inf, inf, 4, 0, 13, 15],\n",
        "         [inf, inf, inf, inf, 0, 4],\n",
        "         [inf, inf, inf, inf, inf, 0]]\n",
        "\n",
        "    dij = Dijkstra(G)\n",
        "    dis, parents = dij.shortestPath(0)\n",
        "    print(\"dis: \", dis)\n",
        "    print(\"parents: \", parents)"
      ]
    }
  ]
}